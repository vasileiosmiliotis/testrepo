{
 "cells": [
  {
   "cell_type": "markdown",
   "id": "f7d379fa-0f05-40ad-9e51-ede9d0dd5c71",
   "metadata": {},
   "source": [
    "# My Jupyter Notebook on IBM Watson Studio"
   ]
  },
  {
   "cell_type": "markdown",
   "id": "e12cc6e9-e56e-4f55-bf67-b02d1a6c1c69",
   "metadata": {},
   "source": [
    "**Vasileios Miliotis**\n",
    "AI Engineer"
   ]
  },
  {
   "cell_type": "markdown",
   "id": "57bc1c72-2165-4e9f-8973-8ef041c70ac5",
   "metadata": {},
   "source": [
    "*I am interested in data science because I want to learn new state-of-the-art skills*"
   ]
  },
  {
   "cell_type": "markdown",
   "id": "30df4918-9e19-46d1-9d94-3c9e7eef09e0",
   "metadata": {},
   "source": [
    "### My code in Cell 5 will make the addition of one plus one"
   ]
  },
  {
   "cell_type": "code",
   "execution_count": 3,
   "id": "2021f3a9-6fe9-498e-9294-8ecfbcd19dd9",
   "metadata": {},
   "outputs": [
    {
     "name": "stdout",
     "output_type": "stream",
     "text": [
      "2\n"
     ]
    }
   ],
   "source": [
    "print(1+1)"
   ]
  },
  {
   "cell_type": "markdown",
   "id": "78e30367-4032-4e55-9032-28a75729eecb",
   "metadata": {},
   "source": [
    "***\n",
    "\n",
    "- Buy milk\n",
    "- Fill up the car\n",
    "- Take a break\n",
    "\n",
    "1. Buy sugar\n",
    "2. Sell sugar\n",
    "3. Repeat 1 and 2"
   ]
  },
  {
   "cell_type": "markdown",
   "id": "2f21407a-a1eb-4937-83fe-607f847163db",
   "metadata": {},
   "source": [
    "__[Just Google it!](https://www.google.com/)__"
   ]
  },
  {
   "cell_type": "code",
   "execution_count": null,
   "id": "70b2585f-d470-4375-bee8-235405e42e84",
   "metadata": {},
   "outputs": [],
   "source": []
  }
 ],
 "metadata": {
  "kernelspec": {
   "display_name": "Python",
   "language": "python",
   "name": "conda-env-python-py"
  },
  "language_info": {
   "codemirror_mode": {
    "name": "ipython",
    "version": 3
   },
   "file_extension": ".py",
   "mimetype": "text/x-python",
   "name": "python",
   "nbconvert_exporter": "python",
   "pygments_lexer": "ipython3",
   "version": "3.7.12"
  }
 },
 "nbformat": 4,
 "nbformat_minor": 5
}
